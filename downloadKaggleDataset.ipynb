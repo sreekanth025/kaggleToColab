{
  "nbformat": 4,
  "nbformat_minor": 0,
  "metadata": {
    "colab": {
      "name": "downloadKaggleDataset.ipynb",
      "provenance": []
    },
    "kernelspec": {
      "name": "python3",
      "display_name": "Python 3"
    },
    "accelerator": "GPU"
  },
  "cells": [
    {
      "cell_type": "code",
      "metadata": {
        "id": "5SAC1jB450kT",
        "colab_type": "code",
        "colab": {}
      },
      "source": [
        "!pip install -U -q kaggle"
      ],
      "execution_count": 0,
      "outputs": []
    },
    {
      "cell_type": "code",
      "metadata": {
        "id": "iPJRZuG150nF",
        "colab_type": "code",
        "colab": {}
      },
      "source": [
        "!mkdir -p ~/.kaggle"
      ],
      "execution_count": 0,
      "outputs": []
    },
    {
      "cell_type": "markdown",
      "metadata": {
        "id": "MAFWKgWt7SVf",
        "colab_type": "text"
      },
      "source": [
        "# Upload kaggle.json file by running the cell below. (kaggle.json contains your kaggle username and an API key. This file can be downloaded from kaggle API) "
      ]
    },
    {
      "cell_type": "code",
      "metadata": {
        "id": "dtdaJiNc50xI",
        "colab_type": "code",
        "colab": {}
      },
      "source": [
        "from google.colab import files\n",
        "files.upload()"
      ],
      "execution_count": 0,
      "outputs": []
    },
    {
      "cell_type": "code",
      "metadata": {
        "id": "R5izlcAz50yb",
        "colab_type": "code",
        "colab": {}
      },
      "source": [
        "!cp kaggle.json ~/.kaggle/"
      ],
      "execution_count": 0,
      "outputs": []
    },
    {
      "cell_type": "code",
      "metadata": {
        "id": "YbJwYipU502H",
        "colab_type": "code",
        "colab": {
          "base_uri": "https://localhost:8080/",
          "height": 440
        },
        "outputId": "85cdf817-462d-4d6a-c6c8-2eda4c953ef3"
      },
      "source": [
        "!kaggle datasets list"
      ],
      "execution_count": 5,
      "outputs": [
        {
          "output_type": "stream",
          "text": [
            "Warning: Your Kaggle API key is readable by other users on this system! To fix this, you can run 'chmod 600 /root/.kaggle/kaggle.json'\n",
            "Warning: Looks like you're using an outdated API Version, please consider updating (server 1.5.6 / client 1.5.4)\n",
            "ref                                                         title                                                size  lastUpdated          downloadCount  \n",
            "----------------------------------------------------------  --------------------------------------------------  -----  -------------------  -------------  \n",
            "unanimad/dataisbeautiful                                    Reddit - Data is Beautiful                           11MB  2020-03-21 22:28:28            729  \n",
            "allen-institute-for-ai/CORD-19-research-challenge           COVID-19 Open Research Dataset Challenge (CORD-19)  646MB  2020-03-20 23:31:34          27574  \n",
            "rubenssjr/brasilian-houses-to-rent                          brazilian_houses_to_rent                            117KB  2020-03-15 01:12:22            708  \n",
            "sudalairajkumar/novel-corona-virus-2019-dataset             Novel Corona Virus 2019 Dataset                     412KB  2020-03-24 06:10:13          76937  \n",
            "kimjihoo/coronavirusdataset                                 Data Science for COVID-19 (DS4C)                      3MB  2020-03-22 04:17:54          20236  \n",
            "jessemostipak/hotel-booking-demand                          Hotel booking demand                                  1MB  2020-02-13 01:27:20          10214  \n",
            "shivamb/real-or-fake-fake-jobposting-prediction             [Real or Fake] Fake JobPosting Prediction            16MB  2020-02-29 08:23:34           2084  \n",
            "brunotly/foreign-exchange-rates-per-dollar-20002019         Foreign Exchange Rates 2000-2019                      1MB  2020-03-03 17:43:07           1623  \n",
            "timoboz/data-science-cheat-sheets                           Data Science Cheat Sheets                           596MB  2020-02-04 19:42:27           6264  \n",
            "imdevskp/sars-outbreak-2003-complete-dataset                SARS 2003 Outbreak Complete Dataset                  10KB  2020-02-26 10:25:22           1971  \n",
            "imdevskp/ebola-outbreak-20142016-complete-dataset           Ebola 2014-2016 Outbreak Complete Dataset           101KB  2020-02-26 14:36:31           1881  \n",
            "tunguz/big-five-personality-test                            Big Five Personality Test                           159MB  2020-02-17 15:59:37           3117  \n",
            "paultimothymooney/coronavirus-genome-sequence               Coronavirus Genome Sequence                           9MB  2020-02-29 00:25:13            570  \n",
            "arindam235/startup-investments-crunchbase                   StartUp Investments (Crunchbase)                      3MB  2020-02-17 21:54:42           2184  \n",
            "timoboz/tesla-stock-data-from-2010-to-2020                  Tesla stock data from 2010 to 2020                   46KB  2020-02-04 17:15:32           3004  \n",
            "timoboz/python-data-science-handbook                        Python Data Science Handbook                         15MB  2020-02-04 18:27:14           1460  \n",
            "prakrutchauhan/indian-candidates-for-general-election-2019  Indian Candidates for General Election 2019         133KB  2020-03-03 07:01:53            978  \n",
            "gpiosenka/100-bird-species                                  160 Bird Species                                      2GB  2020-03-23 20:51:22           1015  \n",
            "ronitf/heart-disease-uci                                    Heart Disease UCI                                     3KB  2018-06-25 11:33:56         122042  \n",
            "gregorut/videogamesales                                     Video Game Sales                                    381KB  2016-10-26 09:10:49          93228  \n"
          ],
          "name": "stdout"
        }
      ]
    },
    {
      "cell_type": "code",
      "metadata": {
        "id": "WaWGVg-w503Z",
        "colab_type": "code",
        "colab": {}
      },
      "source": [
        "!chmod 600 /root/.kaggle/kaggle.json"
      ],
      "execution_count": 0,
      "outputs": []
    },
    {
      "cell_type": "markdown",
      "metadata": {
        "id": "9Ihd5yQV76ZX",
        "colab_type": "text"
      },
      "source": [
        "# Searching for a dataset consisting a particular word in it's title"
      ]
    },
    {
      "cell_type": "code",
      "metadata": {
        "id": "lYuIkIe3507E",
        "colab_type": "code",
        "colab": {
          "base_uri": "https://localhost:8080/",
          "height": 423
        },
        "outputId": "a5280867-d924-4fbc-d951-5cd3c1b85452"
      },
      "source": [
        "!kaggle datasets list -s amazon"
      ],
      "execution_count": 8,
      "outputs": [
        {
          "output_type": "stream",
          "text": [
            "Warning: Looks like you're using an outdated API Version, please consider updating (server 1.5.6 / client 1.5.4)\n",
            "ref                                                  title                                               size  lastUpdated          downloadCount  \n",
            "---------------------------------------------------  -------------------------------------------------  -----  -------------------  -------------  \n",
            "snap/amazon-fine-food-reviews                        Amazon Fine Food Reviews                           242MB  2017-05-01 18:51:31          66084  \n",
            "sid321axn/amazon-alexa-reviews                       Amazon Alexa Reviews                               164KB  2018-07-31 17:45:14           7561  \n",
            "bittlingmayer/amazonreviews                          Amazon Reviews for Sentiment Analysis              493MB  2019-11-18 02:50:34          22744  \n",
            "grikomsn/amazon-cell-phones-reviews                  Amazon Cell Phones Reviews                           9MB  2019-12-26 22:21:16           5968  \n",
            "datafiniti/consumer-reviews-of-amazon-products       Consumer Reviews of Amazon Products                 16MB  2019-05-20 00:38:59          14329  \n",
            "PromptCloudHQ/amazon-reviews-unlocked-mobile-phones  Amazon Reviews: Unlocked Mobile Phones              33MB  2017-01-11 10:22:30           7292  \n",
            "bharadwaj6/kindle-reviews                            Amazon reviews: Kindle Store Category              525MB  2018-05-22 04:50:16           3113  \n",
            "atahmasb/amazon-job-skills                           AMAZON Job Skills                                    2MB  2018-03-02 04:02:20           2812  \n",
            "PromptCloudHQ/toy-products-on-amazon                 Toy Products on Amazon                               8MB  2017-09-15 19:45:36           4891  \n",
            "gustavomodelli/forest-fires-in-brazil                Forest Fires in Brazil                              31KB  2019-08-24 16:09:16          21022  \n",
            "shitalkat/amazonearphonesreviews                     Amazon Earphones Reviews                           772KB  2019-07-19 04:53:11            523  \n",
            "skillsmuggler/amazon-ratings                         Amazon - Ratings (Beauty Products)                  29MB  2018-06-24 09:49:57           1385  \n",
            "residentmario/things-on-reddit                       Things on Reddit                                    16MB  2017-10-26 14:10:15           3796  \n",
            "mbogernetto/brazilian-amazon-rainforest-degradation  Brazilian Amazon Rainforest Degradation 1999-2019   46KB  2019-12-27 10:02:25            199  \n",
            "ak47bluestack/amazonphonedataset                     Amazon-Phone-Dataset                                 4MB  2019-07-16 07:56:15            690  \n",
            "mpwolke/cusersmarildownloadstserofcsv                Deforestation in Federal Conservation Units.         5KB  2019-08-09 20:54:55            172  \n",
            "prasoonkottarathil/amazon-stocks-lifetime-dataset    amazon stocks life-time dataset                    106KB  2019-11-16 05:29:21             67  \n",
            "saurav9786/amazon-product-reviews                    Amazon Product Reviews                             109MB  2020-01-14 13:25:53            187  \n",
            "roopalik/amazon-baby-dataset                         Amazon baby dataset                                 18MB  2017-02-01 21:01:16            563  \n",
            "abdullahmu/big-five-stocks                           Big Five Stocks                                    610KB  2019-08-25 15:51:36            497  \n"
          ],
          "name": "stdout"
        }
      ]
    },
    {
      "cell_type": "code",
      "metadata": {
        "id": "kU82QZWr5092",
        "colab_type": "code",
        "colab": {
          "base_uri": "https://localhost:8080/",
          "height": 67
        },
        "outputId": "4f1541e8-74b8-4e70-f770-0825ab4b3c32"
      },
      "source": [
        "!kaggle datasets download -d snap/amazon-fine-food-reviews"
      ],
      "execution_count": 9,
      "outputs": [
        {
          "output_type": "stream",
          "text": [
            "Downloading amazon-fine-food-reviews.zip to /content\n",
            " 97% 234M/242M [00:06<00:00, 35.6MB/s]\n",
            "100% 242M/242M [00:06<00:00, 39.4MB/s]\n"
          ],
          "name": "stdout"
        }
      ]
    },
    {
      "cell_type": "code",
      "metadata": {
        "id": "W6SG9FgE8eAM",
        "colab_type": "code",
        "colab": {
          "base_uri": "https://localhost:8080/",
          "height": 84
        },
        "outputId": "0601f824-7a55-462d-8b09-53c5e4e30996"
      },
      "source": [
        "!unzip \\*.zip"
      ],
      "execution_count": 10,
      "outputs": [
        {
          "output_type": "stream",
          "text": [
            "Archive:  amazon-fine-food-reviews.zip\n",
            "  inflating: Reviews.csv             \n",
            "  inflating: database.sqlite         \n",
            "  inflating: hashes.txt              \n"
          ],
          "name": "stdout"
        }
      ]
    },
    {
      "cell_type": "code",
      "metadata": {
        "id": "D2PG8Ett8so3",
        "colab_type": "code",
        "colab": {
          "base_uri": "https://localhost:8080/",
          "height": 50
        },
        "outputId": "fc7a5a82-3603-4dbe-ef96-e950550a5cf8"
      },
      "source": [
        "!ls"
      ],
      "execution_count": 11,
      "outputs": [
        {
          "output_type": "stream",
          "text": [
            "amazon-fine-food-reviews.zip  hashes.txt   Reviews.csv\n",
            "database.sqlite\t\t      kaggle.json  sample_data\n"
          ],
          "name": "stdout"
        }
      ]
    },
    {
      "cell_type": "markdown",
      "metadata": {
        "id": "E5Gi7mi09JNB",
        "colab_type": "text"
      },
      "source": [
        "## To download the dataset into google drive\n"
      ]
    },
    {
      "cell_type": "code",
      "metadata": {
        "id": "CdG_NTKr-Egz",
        "colab_type": "code",
        "colab": {
          "base_uri": "https://localhost:8080/",
          "height": 121
        },
        "outputId": "8061f4c9-58dd-4c03-d835-0fd0a2b44f80"
      },
      "source": [
        "from google.colab import drive\n",
        "drive.mount('/content/drive')"
      ],
      "execution_count": 12,
      "outputs": [
        {
          "output_type": "stream",
          "text": [
            "Go to this URL in a browser: https://accounts.google.com/o/oauth2/auth?client_id=947318989803-6bn6qk8qdgf4n4g3pfee6491hc0brc4i.apps.googleusercontent.com&redirect_uri=urn%3aietf%3awg%3aoauth%3a2.0%3aoob&response_type=code&scope=email%20https%3a%2f%2fwww.googleapis.com%2fauth%2fdocs.test%20https%3a%2f%2fwww.googleapis.com%2fauth%2fdrive%20https%3a%2f%2fwww.googleapis.com%2fauth%2fdrive.photos.readonly%20https%3a%2f%2fwww.googleapis.com%2fauth%2fpeopleapi.readonly\n",
            "\n",
            "Enter your authorization code:\n",
            "··········\n",
            "Mounted at /content/drive\n"
          ],
          "name": "stdout"
        }
      ]
    },
    {
      "cell_type": "code",
      "metadata": {
        "id": "_MVDF0ZG8xGx",
        "colab_type": "code",
        "colab": {
          "base_uri": "https://localhost:8080/",
          "height": 67
        },
        "outputId": "709f1429-fae3-4cd5-92e4-f0b61f719650"
      },
      "source": [
        "!kaggle datasets download -d snap/amazon-fine-food-reviews -p /content/drive/My\\ Drive/Datasets/"
      ],
      "execution_count": 16,
      "outputs": [
        {
          "output_type": "stream",
          "text": [
            "Downloading amazon-fine-food-reviews.zip to /content/drive/My Drive/Datasets\n",
            " 96% 232M/242M [00:01<00:00, 154MB/s]\n",
            "100% 242M/242M [00:01<00:00, 140MB/s]\n"
          ],
          "name": "stdout"
        }
      ]
    }
  ]
}